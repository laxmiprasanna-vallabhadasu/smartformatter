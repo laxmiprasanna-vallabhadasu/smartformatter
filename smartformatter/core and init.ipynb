{
 "cells": [
  {
   "cell_type": "code",
   "execution_count": 1,
   "id": "9d77142e-cd04-4f2e-9a14-5792cb054b6d",
   "metadata": {},
   "outputs": [
    {
     "name": "stdout",
     "output_type": "stream",
     "text": [
      "Writing core.py\n"
     ]
    }
   ],
   "source": [
    "%%writefile core.py\n",
    "import re\n",
    "import inflect\n",
    "\n",
    "def format_name(name):\n",
    "    return ' '.join([w.capitalize() for w in name.strip().split()])\n",
    "\n",
    "def format_phone(phone):\n",
    "    digits = re.sub(r'\\D', '', phone)\n",
    "    return f\"+{digits[:2]} {digits[2:7]} {digits[7:]}\"\n",
    "\n",
    "def format_currency(amount, symbol='$'):\n",
    "    return f\"{symbol}{amount:,.2f}\"\n",
    "\n",
    "def number_to_words(n):\n",
    "    p = inflect.engine()\n",
    "    return p.number_to_words(n).replace(',', '')\n",
    "\n",
    "def slugify(text):\n",
    "    return re.sub(r'[^a-z0-9]+', '-', text.lower()).strip('-')\n"
   ]
  },
  {
   "cell_type": "code",
   "execution_count": 2,
   "id": "c8457de0-adff-4a6d-a479-e015bc1ebbfa",
   "metadata": {},
   "outputs": [
    {
     "name": "stdout",
     "output_type": "stream",
     "text": [
      "Writing __init__.py\n"
     ]
    }
   ],
   "source": [
    "%%writefile __init__.py\n",
    "from .core import (\n",
    "    format_name,\n",
    "    format_phone,\n",
    "    format_currency,\n",
    "    number_to_words,\n",
    "    slugify\n",
    ")\n"
   ]
  }
 ],
 "metadata": {
  "kernelspec": {
   "display_name": "Python 3 (ipykernel)",
   "language": "python",
   "name": "python3"
  },
  "language_info": {
   "codemirror_mode": {
    "name": "ipython",
    "version": 3
   },
   "file_extension": ".py",
   "mimetype": "text/x-python",
   "name": "python",
   "nbconvert_exporter": "python",
   "pygments_lexer": "ipython3",
   "version": "3.12.7"
  }
 },
 "nbformat": 4,
 "nbformat_minor": 5
}
