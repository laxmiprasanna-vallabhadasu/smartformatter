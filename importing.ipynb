{
 "cells": [
  {
   "cell_type": "code",
   "execution_count": 1,
   "id": "6158a455-858a-4be5-9c4c-f4c5247e49a9",
   "metadata": {},
   "outputs": [
    {
     "name": "stdout",
     "output_type": "stream",
     "text": [
      "C:\\Users\\VINAY PC1\\smartformatter\n"
     ]
    }
   ],
   "source": [
    "import os\n",
    "print(os.getcwd())"
   ]
  },
  {
   "cell_type": "code",
   "execution_count": 3,
   "id": "78e915f4-7074-48d3-9273-8a9da2d319cf",
   "metadata": {},
   "outputs": [],
   "source": [
    "from smartformatter import format_name, format_phone, format_currency, number_to_words, slugify"
   ]
  },
  {
   "cell_type": "code",
   "execution_count": 4,
   "id": "a612ec66-7fc5-4dd1-84c1-3cf048838b16",
   "metadata": {},
   "outputs": [
    {
     "name": "stdout",
     "output_type": "stream",
     "text": [
      "John Doe\n",
      "+98 76543 210\n",
      "$12,345.67\n",
      "one hundred and twenty-three\n",
      "hello-world-2025\n"
     ]
    }
   ],
   "source": [
    "print(format_name(\"john doe\"))           # John Doe\n",
    "print(format_phone(\"9876543210\"))        # +98 76543 210\n",
    "print(format_currency(12345.67))         # $12,345.67\n",
    "print(number_to_words(123))              # one hundred and twenty-three\n",
    "print(slugify(\"Hello World! 2025\"))      # hello-world-2025"
   ]
  }
 ],
 "metadata": {
  "kernelspec": {
   "display_name": "Python 3 (ipykernel)",
   "language": "python",
   "name": "python3"
  },
  "language_info": {
   "codemirror_mode": {
    "name": "ipython",
    "version": 3
   },
   "file_extension": ".py",
   "mimetype": "text/x-python",
   "name": "python",
   "nbconvert_exporter": "python",
   "pygments_lexer": "ipython3",
   "version": "3.12.7"
  }
 },
 "nbformat": 4,
 "nbformat_minor": 5
}
